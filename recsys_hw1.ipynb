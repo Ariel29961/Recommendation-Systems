{
  "nbformat": 4,
  "nbformat_minor": 0,
  "metadata": {
    "colab": {
      "provenance": [],
      "include_colab_link": true
    },
    "kernelspec": {
      "name": "python3",
      "display_name": "Python 3"
    },
    "language_info": {
      "name": "python"
    }
  },
  "cells": [
    {
      "cell_type": "markdown",
      "metadata": {
        "id": "view-in-github",
        "colab_type": "text"
      },
      "source": [
        "<a href=\"https://colab.research.google.com/github/Ariel29961/Recommendation-Systems/blob/main/recsys_hw1.ipynb\" target=\"_parent\"><img src=\"https://colab.research.google.com/assets/colab-badge.svg\" alt=\"Open In Colab\"/></a>"
      ]
    },
    {
      "cell_type": "markdown",
      "source": [
        "#### Students Name and ID:\n",
        "##### 1:\n",
        "##### 2:"
      ],
      "metadata": {
        "id": "PGiEt-zjFgSH"
      }
    },
    {
      "cell_type": "markdown",
      "source": [
        "# Recommender Systems - 2025\n",
        "# *Homework 1 - Evaluation Metrics*\n",
        "### Due Date - 5 December, 2024\n",
        "\n",
        "### In this assignment you will get familiar with a well-known dataset of movie ratings, and explore various RS evaluation metrics. This work will set the grounds for homework 2, in which you will build, optimize and evaluate RS models based on matrix factorization."
      ],
      "metadata": {
        "id": "WaevbQhbFtm-"
      }
    },
    {
      "cell_type": "markdown",
      "source": [
        "#### Instructions:\n",
        "\n",
        "This notebook is an interactive assignment; please read and follow the instructions in each cell.\n",
        "\n",
        "Assignments are to be turned in pairs, by one of the teammates.\n",
        "\n",
        "Cells that require your input (in the form of code or written response) will have 'Question #' above.\n",
        "\n",
        "Make sure the entire notebook runs without errors and includes all plots, code and explanations.\n",
        "\n",
        "After completing the assignment, please download the notebook to an '.ipynb' file and submit it on moodle."
      ],
      "metadata": {
        "id": "waj2iKo-GBZk"
      }
    },
    {
      "cell_type": "markdown",
      "source": [
        "## Data exploration\n",
        "\n",
        "In this section, you will load the MovieLens 100K rating dataset, extract a rating matix, and get familiar with the data.\n",
        "\n",
        "The MovieLens 100K is a commonly used dataset, including 100,000 ratings (1-5) from 943 users on 1682 movies. This dataset is considered an explicit feedback dataset for having user ratings (as opposed to implicit feedback datasets where information such as clicks and views are available and can be considered as a proxy for user's preference)"
      ],
      "metadata": {
        "id": "315hXFGIKwAQ"
      }
    },
    {
      "cell_type": "code",
      "source": [
        "import os\n",
        "import requests\n",
        "import zipfile\n",
        "\n",
        "import matplotlib.pyplot as plt\n",
        "import numpy as np\n",
        "import pandas as pd\n",
        "import seaborn as sns"
      ],
      "metadata": {
        "id": "CtOEPkO_NVHs"
      },
      "execution_count": 1,
      "outputs": []
    },
    {
      "cell_type": "code",
      "source": [
        "url = \"http://files.grouplens.org/datasets/movielens/ml-100k.zip\"\n",
        "zip_name = url.split(\"/\")[-1]\n",
        "data_dir = \"ml-100k/\"\n",
        "\n",
        "r = requests.get(url, allow_redirects=True)\n",
        "with open(zip_name, \"wb\") as f:\n",
        "    f.write(r.content)\n",
        "\n",
        "with zipfile.ZipFile(zip_name, \"r\") as zip_ref:\n",
        "    zip_ref.extractall()"
      ],
      "metadata": {
        "id": "TCMTDDt6NMCI"
      },
      "execution_count": 2,
      "outputs": []
    },
    {
      "cell_type": "code",
      "source": [
        "cols_data = [\"user_id\", \"item_id\", \"rating\", \"timestamp\"]\n",
        "cols_user = [\"user_id\", \"age\", \"gender\", \"occupation\", \"zip code\"]\n",
        "cols_item = [\n",
        "    \"movie id\",\n",
        "    \"movie_title\",\n",
        "    \"release_date\",\n",
        "    \"video_release_date\",\n",
        "    \"IMDb_URL\",\n",
        "    \"unknown\",\n",
        "    \"Action\",\n",
        "    \"Adventure\",\n",
        "    \"Animation\",\n",
        "    \"Childrens\",\n",
        "    \"Comedy\",\n",
        "    \"Crime\",\n",
        "    \"Documentary\",\n",
        "    \"Drama\",\n",
        "    \"Fantasy\",\n",
        "    \"Film_Noir\",\n",
        "    \"Horror\",\n",
        "    \"Musical\",\n",
        "    \"Mystery\",\n",
        "    \"Romance\",\n",
        "    \"Sci_Fi\",\n",
        "    \"Thriller\",\n",
        "    \"War\",\n",
        "    \"Western\",\n",
        "]"
      ],
      "metadata": {
        "id": "WYY4qOKzPmc_"
      },
      "execution_count": 3,
      "outputs": []
    },
    {
      "cell_type": "code",
      "source": [
        "df_users = pd.read_csv(\n",
        "    os.path.join(data_dir, \"u.user\"),\n",
        "    delimiter=\"|\",\n",
        "    header=None,\n",
        "    names=cols_user,\n",
        ")\n",
        "df_users.shape"
      ],
      "metadata": {
        "id": "f90jpTHPPz6N",
        "colab": {
          "base_uri": "https://localhost:8080/"
        },
        "outputId": "fcbccb2f-93c0-445f-a205-7162935fdd43"
      },
      "execution_count": 4,
      "outputs": [
        {
          "output_type": "execute_result",
          "data": {
            "text/plain": [
              "(943, 5)"
            ]
          },
          "metadata": {},
          "execution_count": 4
        }
      ]
    },
    {
      "cell_type": "code",
      "source": [
        "df_items = pd.read_csv(\n",
        "    os.path.join(data_dir, \"u.item\"),\n",
        "    delimiter=\"|\",\n",
        "    header=None,\n",
        "    names=cols_item,\n",
        "    encoding=\"ISO-8859-1\",\n",
        ")\n",
        "df_items.shape"
      ],
      "metadata": {
        "id": "IXSClmVPP7BA",
        "colab": {
          "base_uri": "https://localhost:8080/"
        },
        "outputId": "cb29256d-ce90-4aa9-d25c-9b33531394cf"
      },
      "execution_count": 5,
      "outputs": [
        {
          "output_type": "execute_result",
          "data": {
            "text/plain": [
              "(1682, 24)"
            ]
          },
          "metadata": {},
          "execution_count": 5
        }
      ]
    },
    {
      "cell_type": "code",
      "source": [
        "df_ratings = pd.read_csv(\n",
        "    os.path.join(data_dir, \"u.data\"),\n",
        "    delimiter=\"\\t\",\n",
        "    header=None,\n",
        "    names=cols_data,\n",
        ")\n",
        "df_ratings.shape"
      ],
      "metadata": {
        "id": "xt2Mdjx9QAOM",
        "colab": {
          "base_uri": "https://localhost:8080/"
        },
        "outputId": "568c33ee-8d56-44ac-b2bd-a222f206d286"
      },
      "execution_count": 6,
      "outputs": [
        {
          "output_type": "execute_result",
          "data": {
            "text/plain": [
              "(100000, 4)"
            ]
          },
          "metadata": {},
          "execution_count": 6
        }
      ]
    },
    {
      "cell_type": "markdown",
      "source": [
        "---"
      ],
      "metadata": {
        "id": "jGYiPRiB4ei5"
      }
    },
    {
      "cell_type": "markdown",
      "source": [
        "####Question 1 (5 points)\n",
        "\n",
        "Build a ratings matrix with users as rows, items as columns, and ratings as the elements of the matrix.\n",
        "\n",
        "Replace empty ratings with zeros."
      ],
      "metadata": {
        "id": "MQexElnoW_0U"
      }
    },
    {
      "cell_type": "code",
      "source": [
        "ratings = df_ratings.pivot(index='user_id', columns='item_id', values='rating').fillna(0)\n",
        "\n",
        "ratings.head()"
      ],
      "metadata": {
        "id": "Y7VdXMawQe4m",
        "colab": {
          "base_uri": "https://localhost:8080/",
          "height": 267
        },
        "outputId": "ad8125ec-8793-453a-9ed2-ea3f2e791f2f"
      },
      "execution_count": 12,
      "outputs": [
        {
          "output_type": "execute_result",
          "data": {
            "text/plain": [
              "item_id  1     2     3     4     5     6     7     8     9     10    ...  \\\n",
              "user_id                                                              ...   \n",
              "1         5.0   3.0   4.0   3.0   3.0   5.0   4.0   1.0   5.0   3.0  ...   \n",
              "2         4.0   0.0   0.0   0.0   0.0   0.0   0.0   0.0   0.0   2.0  ...   \n",
              "3         0.0   0.0   0.0   0.0   0.0   0.0   0.0   0.0   0.0   0.0  ...   \n",
              "4         0.0   0.0   0.0   0.0   0.0   0.0   0.0   0.0   0.0   0.0  ...   \n",
              "5         4.0   3.0   0.0   0.0   0.0   0.0   0.0   0.0   0.0   0.0  ...   \n",
              "\n",
              "item_id  1673  1674  1675  1676  1677  1678  1679  1680  1681  1682  \n",
              "user_id                                                              \n",
              "1         0.0   0.0   0.0   0.0   0.0   0.0   0.0   0.0   0.0   0.0  \n",
              "2         0.0   0.0   0.0   0.0   0.0   0.0   0.0   0.0   0.0   0.0  \n",
              "3         0.0   0.0   0.0   0.0   0.0   0.0   0.0   0.0   0.0   0.0  \n",
              "4         0.0   0.0   0.0   0.0   0.0   0.0   0.0   0.0   0.0   0.0  \n",
              "5         0.0   0.0   0.0   0.0   0.0   0.0   0.0   0.0   0.0   0.0  \n",
              "\n",
              "[5 rows x 1682 columns]"
            ],
            "text/html": [
              "\n",
              "  <div id=\"df-a53f218e-af5a-41cf-a08f-dcc7a2e67bc1\" class=\"colab-df-container\">\n",
              "    <div>\n",
              "<style scoped>\n",
              "    .dataframe tbody tr th:only-of-type {\n",
              "        vertical-align: middle;\n",
              "    }\n",
              "\n",
              "    .dataframe tbody tr th {\n",
              "        vertical-align: top;\n",
              "    }\n",
              "\n",
              "    .dataframe thead th {\n",
              "        text-align: right;\n",
              "    }\n",
              "</style>\n",
              "<table border=\"1\" class=\"dataframe\">\n",
              "  <thead>\n",
              "    <tr style=\"text-align: right;\">\n",
              "      <th>item_id</th>\n",
              "      <th>1</th>\n",
              "      <th>2</th>\n",
              "      <th>3</th>\n",
              "      <th>4</th>\n",
              "      <th>5</th>\n",
              "      <th>6</th>\n",
              "      <th>7</th>\n",
              "      <th>8</th>\n",
              "      <th>9</th>\n",
              "      <th>10</th>\n",
              "      <th>...</th>\n",
              "      <th>1673</th>\n",
              "      <th>1674</th>\n",
              "      <th>1675</th>\n",
              "      <th>1676</th>\n",
              "      <th>1677</th>\n",
              "      <th>1678</th>\n",
              "      <th>1679</th>\n",
              "      <th>1680</th>\n",
              "      <th>1681</th>\n",
              "      <th>1682</th>\n",
              "    </tr>\n",
              "    <tr>\n",
              "      <th>user_id</th>\n",
              "      <th></th>\n",
              "      <th></th>\n",
              "      <th></th>\n",
              "      <th></th>\n",
              "      <th></th>\n",
              "      <th></th>\n",
              "      <th></th>\n",
              "      <th></th>\n",
              "      <th></th>\n",
              "      <th></th>\n",
              "      <th></th>\n",
              "      <th></th>\n",
              "      <th></th>\n",
              "      <th></th>\n",
              "      <th></th>\n",
              "      <th></th>\n",
              "      <th></th>\n",
              "      <th></th>\n",
              "      <th></th>\n",
              "      <th></th>\n",
              "      <th></th>\n",
              "    </tr>\n",
              "  </thead>\n",
              "  <tbody>\n",
              "    <tr>\n",
              "      <th>1</th>\n",
              "      <td>5.0</td>\n",
              "      <td>3.0</td>\n",
              "      <td>4.0</td>\n",
              "      <td>3.0</td>\n",
              "      <td>3.0</td>\n",
              "      <td>5.0</td>\n",
              "      <td>4.0</td>\n",
              "      <td>1.0</td>\n",
              "      <td>5.0</td>\n",
              "      <td>3.0</td>\n",
              "      <td>...</td>\n",
              "      <td>0.0</td>\n",
              "      <td>0.0</td>\n",
              "      <td>0.0</td>\n",
              "      <td>0.0</td>\n",
              "      <td>0.0</td>\n",
              "      <td>0.0</td>\n",
              "      <td>0.0</td>\n",
              "      <td>0.0</td>\n",
              "      <td>0.0</td>\n",
              "      <td>0.0</td>\n",
              "    </tr>\n",
              "    <tr>\n",
              "      <th>2</th>\n",
              "      <td>4.0</td>\n",
              "      <td>0.0</td>\n",
              "      <td>0.0</td>\n",
              "      <td>0.0</td>\n",
              "      <td>0.0</td>\n",
              "      <td>0.0</td>\n",
              "      <td>0.0</td>\n",
              "      <td>0.0</td>\n",
              "      <td>0.0</td>\n",
              "      <td>2.0</td>\n",
              "      <td>...</td>\n",
              "      <td>0.0</td>\n",
              "      <td>0.0</td>\n",
              "      <td>0.0</td>\n",
              "      <td>0.0</td>\n",
              "      <td>0.0</td>\n",
              "      <td>0.0</td>\n",
              "      <td>0.0</td>\n",
              "      <td>0.0</td>\n",
              "      <td>0.0</td>\n",
              "      <td>0.0</td>\n",
              "    </tr>\n",
              "    <tr>\n",
              "      <th>3</th>\n",
              "      <td>0.0</td>\n",
              "      <td>0.0</td>\n",
              "      <td>0.0</td>\n",
              "      <td>0.0</td>\n",
              "      <td>0.0</td>\n",
              "      <td>0.0</td>\n",
              "      <td>0.0</td>\n",
              "      <td>0.0</td>\n",
              "      <td>0.0</td>\n",
              "      <td>0.0</td>\n",
              "      <td>...</td>\n",
              "      <td>0.0</td>\n",
              "      <td>0.0</td>\n",
              "      <td>0.0</td>\n",
              "      <td>0.0</td>\n",
              "      <td>0.0</td>\n",
              "      <td>0.0</td>\n",
              "      <td>0.0</td>\n",
              "      <td>0.0</td>\n",
              "      <td>0.0</td>\n",
              "      <td>0.0</td>\n",
              "    </tr>\n",
              "    <tr>\n",
              "      <th>4</th>\n",
              "      <td>0.0</td>\n",
              "      <td>0.0</td>\n",
              "      <td>0.0</td>\n",
              "      <td>0.0</td>\n",
              "      <td>0.0</td>\n",
              "      <td>0.0</td>\n",
              "      <td>0.0</td>\n",
              "      <td>0.0</td>\n",
              "      <td>0.0</td>\n",
              "      <td>0.0</td>\n",
              "      <td>...</td>\n",
              "      <td>0.0</td>\n",
              "      <td>0.0</td>\n",
              "      <td>0.0</td>\n",
              "      <td>0.0</td>\n",
              "      <td>0.0</td>\n",
              "      <td>0.0</td>\n",
              "      <td>0.0</td>\n",
              "      <td>0.0</td>\n",
              "      <td>0.0</td>\n",
              "      <td>0.0</td>\n",
              "    </tr>\n",
              "    <tr>\n",
              "      <th>5</th>\n",
              "      <td>4.0</td>\n",
              "      <td>3.0</td>\n",
              "      <td>0.0</td>\n",
              "      <td>0.0</td>\n",
              "      <td>0.0</td>\n",
              "      <td>0.0</td>\n",
              "      <td>0.0</td>\n",
              "      <td>0.0</td>\n",
              "      <td>0.0</td>\n",
              "      <td>0.0</td>\n",
              "      <td>...</td>\n",
              "      <td>0.0</td>\n",
              "      <td>0.0</td>\n",
              "      <td>0.0</td>\n",
              "      <td>0.0</td>\n",
              "      <td>0.0</td>\n",
              "      <td>0.0</td>\n",
              "      <td>0.0</td>\n",
              "      <td>0.0</td>\n",
              "      <td>0.0</td>\n",
              "      <td>0.0</td>\n",
              "    </tr>\n",
              "  </tbody>\n",
              "</table>\n",
              "<p>5 rows × 1682 columns</p>\n",
              "</div>\n",
              "    <div class=\"colab-df-buttons\">\n",
              "\n",
              "  <div class=\"colab-df-container\">\n",
              "    <button class=\"colab-df-convert\" onclick=\"convertToInteractive('df-a53f218e-af5a-41cf-a08f-dcc7a2e67bc1')\"\n",
              "            title=\"Convert this dataframe to an interactive table.\"\n",
              "            style=\"display:none;\">\n",
              "\n",
              "  <svg xmlns=\"http://www.w3.org/2000/svg\" height=\"24px\" viewBox=\"0 -960 960 960\">\n",
              "    <path d=\"M120-120v-720h720v720H120Zm60-500h600v-160H180v160Zm220 220h160v-160H400v160Zm0 220h160v-160H400v160ZM180-400h160v-160H180v160Zm440 0h160v-160H620v160ZM180-180h160v-160H180v160Zm440 0h160v-160H620v160Z\"/>\n",
              "  </svg>\n",
              "    </button>\n",
              "\n",
              "  <style>\n",
              "    .colab-df-container {\n",
              "      display:flex;\n",
              "      gap: 12px;\n",
              "    }\n",
              "\n",
              "    .colab-df-convert {\n",
              "      background-color: #E8F0FE;\n",
              "      border: none;\n",
              "      border-radius: 50%;\n",
              "      cursor: pointer;\n",
              "      display: none;\n",
              "      fill: #1967D2;\n",
              "      height: 32px;\n",
              "      padding: 0 0 0 0;\n",
              "      width: 32px;\n",
              "    }\n",
              "\n",
              "    .colab-df-convert:hover {\n",
              "      background-color: #E2EBFA;\n",
              "      box-shadow: 0px 1px 2px rgba(60, 64, 67, 0.3), 0px 1px 3px 1px rgba(60, 64, 67, 0.15);\n",
              "      fill: #174EA6;\n",
              "    }\n",
              "\n",
              "    .colab-df-buttons div {\n",
              "      margin-bottom: 4px;\n",
              "    }\n",
              "\n",
              "    [theme=dark] .colab-df-convert {\n",
              "      background-color: #3B4455;\n",
              "      fill: #D2E3FC;\n",
              "    }\n",
              "\n",
              "    [theme=dark] .colab-df-convert:hover {\n",
              "      background-color: #434B5C;\n",
              "      box-shadow: 0px 1px 3px 1px rgba(0, 0, 0, 0.15);\n",
              "      filter: drop-shadow(0px 1px 2px rgba(0, 0, 0, 0.3));\n",
              "      fill: #FFFFFF;\n",
              "    }\n",
              "  </style>\n",
              "\n",
              "    <script>\n",
              "      const buttonEl =\n",
              "        document.querySelector('#df-a53f218e-af5a-41cf-a08f-dcc7a2e67bc1 button.colab-df-convert');\n",
              "      buttonEl.style.display =\n",
              "        google.colab.kernel.accessAllowed ? 'block' : 'none';\n",
              "\n",
              "      async function convertToInteractive(key) {\n",
              "        const element = document.querySelector('#df-a53f218e-af5a-41cf-a08f-dcc7a2e67bc1');\n",
              "        const dataTable =\n",
              "          await google.colab.kernel.invokeFunction('convertToInteractive',\n",
              "                                                    [key], {});\n",
              "        if (!dataTable) return;\n",
              "\n",
              "        const docLinkHtml = 'Like what you see? Visit the ' +\n",
              "          '<a target=\"_blank\" href=https://colab.research.google.com/notebooks/data_table.ipynb>data table notebook</a>'\n",
              "          + ' to learn more about interactive tables.';\n",
              "        element.innerHTML = '';\n",
              "        dataTable['output_type'] = 'display_data';\n",
              "        await google.colab.output.renderOutput(dataTable, element);\n",
              "        const docLink = document.createElement('div');\n",
              "        docLink.innerHTML = docLinkHtml;\n",
              "        element.appendChild(docLink);\n",
              "      }\n",
              "    </script>\n",
              "  </div>\n",
              "\n",
              "\n",
              "<div id=\"df-22b79ec0-11b6-4195-ae56-14bca283f97b\">\n",
              "  <button class=\"colab-df-quickchart\" onclick=\"quickchart('df-22b79ec0-11b6-4195-ae56-14bca283f97b')\"\n",
              "            title=\"Suggest charts\"\n",
              "            style=\"display:none;\">\n",
              "\n",
              "<svg xmlns=\"http://www.w3.org/2000/svg\" height=\"24px\"viewBox=\"0 0 24 24\"\n",
              "     width=\"24px\">\n",
              "    <g>\n",
              "        <path d=\"M19 3H5c-1.1 0-2 .9-2 2v14c0 1.1.9 2 2 2h14c1.1 0 2-.9 2-2V5c0-1.1-.9-2-2-2zM9 17H7v-7h2v7zm4 0h-2V7h2v10zm4 0h-2v-4h2v4z\"/>\n",
              "    </g>\n",
              "</svg>\n",
              "  </button>\n",
              "\n",
              "<style>\n",
              "  .colab-df-quickchart {\n",
              "      --bg-color: #E8F0FE;\n",
              "      --fill-color: #1967D2;\n",
              "      --hover-bg-color: #E2EBFA;\n",
              "      --hover-fill-color: #174EA6;\n",
              "      --disabled-fill-color: #AAA;\n",
              "      --disabled-bg-color: #DDD;\n",
              "  }\n",
              "\n",
              "  [theme=dark] .colab-df-quickchart {\n",
              "      --bg-color: #3B4455;\n",
              "      --fill-color: #D2E3FC;\n",
              "      --hover-bg-color: #434B5C;\n",
              "      --hover-fill-color: #FFFFFF;\n",
              "      --disabled-bg-color: #3B4455;\n",
              "      --disabled-fill-color: #666;\n",
              "  }\n",
              "\n",
              "  .colab-df-quickchart {\n",
              "    background-color: var(--bg-color);\n",
              "    border: none;\n",
              "    border-radius: 50%;\n",
              "    cursor: pointer;\n",
              "    display: none;\n",
              "    fill: var(--fill-color);\n",
              "    height: 32px;\n",
              "    padding: 0;\n",
              "    width: 32px;\n",
              "  }\n",
              "\n",
              "  .colab-df-quickchart:hover {\n",
              "    background-color: var(--hover-bg-color);\n",
              "    box-shadow: 0 1px 2px rgba(60, 64, 67, 0.3), 0 1px 3px 1px rgba(60, 64, 67, 0.15);\n",
              "    fill: var(--button-hover-fill-color);\n",
              "  }\n",
              "\n",
              "  .colab-df-quickchart-complete:disabled,\n",
              "  .colab-df-quickchart-complete:disabled:hover {\n",
              "    background-color: var(--disabled-bg-color);\n",
              "    fill: var(--disabled-fill-color);\n",
              "    box-shadow: none;\n",
              "  }\n",
              "\n",
              "  .colab-df-spinner {\n",
              "    border: 2px solid var(--fill-color);\n",
              "    border-color: transparent;\n",
              "    border-bottom-color: var(--fill-color);\n",
              "    animation:\n",
              "      spin 1s steps(1) infinite;\n",
              "  }\n",
              "\n",
              "  @keyframes spin {\n",
              "    0% {\n",
              "      border-color: transparent;\n",
              "      border-bottom-color: var(--fill-color);\n",
              "      border-left-color: var(--fill-color);\n",
              "    }\n",
              "    20% {\n",
              "      border-color: transparent;\n",
              "      border-left-color: var(--fill-color);\n",
              "      border-top-color: var(--fill-color);\n",
              "    }\n",
              "    30% {\n",
              "      border-color: transparent;\n",
              "      border-left-color: var(--fill-color);\n",
              "      border-top-color: var(--fill-color);\n",
              "      border-right-color: var(--fill-color);\n",
              "    }\n",
              "    40% {\n",
              "      border-color: transparent;\n",
              "      border-right-color: var(--fill-color);\n",
              "      border-top-color: var(--fill-color);\n",
              "    }\n",
              "    60% {\n",
              "      border-color: transparent;\n",
              "      border-right-color: var(--fill-color);\n",
              "    }\n",
              "    80% {\n",
              "      border-color: transparent;\n",
              "      border-right-color: var(--fill-color);\n",
              "      border-bottom-color: var(--fill-color);\n",
              "    }\n",
              "    90% {\n",
              "      border-color: transparent;\n",
              "      border-bottom-color: var(--fill-color);\n",
              "    }\n",
              "  }\n",
              "</style>\n",
              "\n",
              "  <script>\n",
              "    async function quickchart(key) {\n",
              "      const quickchartButtonEl =\n",
              "        document.querySelector('#' + key + ' button');\n",
              "      quickchartButtonEl.disabled = true;  // To prevent multiple clicks.\n",
              "      quickchartButtonEl.classList.add('colab-df-spinner');\n",
              "      try {\n",
              "        const charts = await google.colab.kernel.invokeFunction(\n",
              "            'suggestCharts', [key], {});\n",
              "      } catch (error) {\n",
              "        console.error('Error during call to suggestCharts:', error);\n",
              "      }\n",
              "      quickchartButtonEl.classList.remove('colab-df-spinner');\n",
              "      quickchartButtonEl.classList.add('colab-df-quickchart-complete');\n",
              "    }\n",
              "    (() => {\n",
              "      let quickchartButtonEl =\n",
              "        document.querySelector('#df-22b79ec0-11b6-4195-ae56-14bca283f97b button');\n",
              "      quickchartButtonEl.style.display =\n",
              "        google.colab.kernel.accessAllowed ? 'block' : 'none';\n",
              "    })();\n",
              "  </script>\n",
              "</div>\n",
              "\n",
              "    </div>\n",
              "  </div>\n"
            ],
            "application/vnd.google.colaboratory.intrinsic+json": {
              "type": "dataframe",
              "variable_name": "ratings"
            }
          },
          "metadata": {},
          "execution_count": 12
        }
      ]
    },
    {
      "cell_type": "markdown",
      "source": [
        "---"
      ],
      "metadata": {
        "id": "Z6d3XThtoEc9"
      }
    },
    {
      "cell_type": "markdown",
      "source": [
        "#### Question 2 (5 points)\n",
        "\n",
        "Calculate the dataset sparsity\n",
        "\n",
        "Remider:\n",
        "$$\n",
        "Sparsity = 1 - \\frac{\\text{number of nonzero ratings in the matrix}}{\\text{number of users}\\times\\text{number of items}}\n",
        "$$"
      ],
      "metadata": {
        "id": "ZQaPEZCFFsC_"
      }
    },
    {
      "cell_type": "code",
      "source": [
        "n_users = ratings.shape[0]\n",
        "n_items = ratings.shape[1]\n",
        "nonzero_ratings = (ratings != 0.0).sum().sum()\n",
        "\n",
        "sparsity = 1 - (nonzero_ratings / (n_users * n_items))\n",
        "\n",
        "print(n_users * n_items)\n",
        "print(f\"number of nonzero ratings in the matrix: {nonzero_ratings}\")\n",
        "print(f\"Sparsity of the dataset: {sparsity:.6f}\")\n"
      ],
      "metadata": {
        "id": "wIp7ip8wYxBn",
        "colab": {
          "base_uri": "https://localhost:8080/"
        },
        "outputId": "0a8feef4-5656-43ec-c834-122b9545370d"
      },
      "execution_count": 13,
      "outputs": [
        {
          "output_type": "stream",
          "name": "stdout",
          "text": [
            "1586126\n",
            "number of nonzero ratings in the matrix: 100000\n",
            "Sparsity of the dataset: 0.936953\n"
          ]
        }
      ]
    },
    {
      "cell_type": "markdown",
      "source": [
        "---"
      ],
      "metadata": {
        "id": "9hdrmr5eoH3n"
      }
    },
    {
      "cell_type": "markdown",
      "source": [
        "#### EDA (Questions Below)"
      ],
      "metadata": {
        "id": "HiEZoohBoYdh"
      }
    },
    {
      "cell_type": "code",
      "source": [
        "p = df_ratings.groupby(\"rating\")[\"rating\"].agg([\"count\"])\n",
        "print(p)\n",
        "fig, ax = plt.subplots(figsize=(12, 3))\n",
        "p.plot(kind=\"barh\", legend=False, ax=ax, color=\"#4a90e2\")\n",
        "\n",
        "ax.set_title(\"Rating Distribution\", fontsize=16, fontweight=\"bold\", pad=15)\n",
        "ax.set_xlabel(\"Count\", fontsize=12)\n",
        "ax.set_ylabel(\"Rating\", fontsize=12)\n",
        "ax.grid(axis=\"x\", linestyle=\"--\", alpha=0.7)\n",
        "ax.set_frame_on(False)\n",
        "\n",
        "total_count = p[\"count\"].sum()\n",
        "for i, (index, row) in enumerate(p.iterrows()):\n",
        "    percentage = (row[\"count\"] / total_count) * 100\n",
        "    ax.text(\n",
        "        row[\"count\"] / 2,\n",
        "        i,\n",
        "        f\"Rating {index}: {percentage:.0f}%\",\n",
        "        color=\"white\",\n",
        "        weight=\"bold\",\n",
        "        ha=\"center\",\n",
        "        va=\"center\",\n",
        "    )"
      ],
      "metadata": {
        "colab": {
          "base_uri": "https://localhost:8080/",
          "height": 390
        },
        "id": "3LBboyMZRa90",
        "outputId": "726ed083-0eb7-41f4-9152-252eb0cb55e5"
      },
      "execution_count": null,
      "outputs": [
        {
          "output_type": "stream",
          "name": "stdout",
          "text": [
            "        count\n",
            "rating       \n",
            "1        6110\n",
            "2       11370\n",
            "3       27145\n",
            "4       34174\n",
            "5       21201\n"
          ]
        },
        {
          "output_type": "display_data",
          "data": {
            "text/plain": [
              "<Figure size 1200x300 with 1 Axes>"
            ],
            "image/png": "[encoded data removed]"
          },
          "metadata": {}
        }
      ]
    },
    {
      "cell_type": "code",
      "source": [
        "fig, ax = plt.subplots(1, 2, sharex=\"col\", sharey=\"row\", figsize=(10, 3))\n",
        "\n",
        "ratings.astype(bool).sum(axis=0).plot.hist(ax=ax[0], bins=50)\n",
        "ratings.astype(bool).sum(axis=1).plot.hist(ax=ax[1], color=\"orange\", bins=50)\n",
        "ax[0].set_title(\"Per item\")\n",
        "ax[1].set_title(\"Per user\")\n",
        "ax[0].set_xlabel(\"amount of ratings\")\n",
        "ax[1].set_xlabel(\"amount of ratings\")\n",
        "fig.tight_layout();"
      ],
      "metadata": {
        "colab": {
          "base_uri": "https://localhost:8080/",
          "height": 307
        },
        "id": "o0q9667KSCsk",
        "outputId": "eee4ea2c-76d1-4d32-e85f-b9317fea4f19"
      },
      "execution_count": 21,
      "outputs": [
        {
          "output_type": "display_data",
          "data": {
            "text/plain": [
              "<Figure size 1000x300 with 2 Axes>"
            ],
            "image/png": "[encoded data removed]"
          },
          "metadata": {}
        }
      ]
    },
    {
      "cell_type": "code",
      "source": [
        "plt.figure(figsize=(12, 3))\n",
        "df_items.iloc[:, 5:].sum().sort_values(ascending=False).plot.bar()\n",
        "plt.xticks(rotation=45)\n",
        "plt.show();"
      ],
      "metadata": {
        "colab": {
          "base_uri": "https://localhost:8080/",
          "height": 265
        },
        "id": "m3jgjnHfSubf",
        "outputId": "2a4f741a-ef2b-4054-ec8d-70b4ba398f8a"
      },
      "execution_count": null,
      "outputs": [
        {
          "output_type": "display_data",
          "data": {
            "text/plain": [
              "<Figure size 1200x300 with 1 Axes>"
            ],
            "image/png": "[encoded data removed]"
          },
          "metadata": {}
        }
      ]
    },
    {
      "cell_type": "markdown",
      "source": [
        "#### Question 3 (10 points)\n",
        "\n",
        "a. How many items are frequently rated (>100 ratings)?\n",
        "\n",
        "b. How many items are rarely rated (<10 ratings)?\n",
        "\n",
        "c. How many users rate frequently (>100 ratings)?\n",
        "\n",
        "d. How many users rate rarely? (<10 ratings)?\n",
        "\n",
        "e. What challenges are we facing when building a recommender system for this dataset?\n",
        "\n",
        "<br>\n",
        "You can add additional plots or calculations to justify your answer"
      ],
      "metadata": {
        "id": "Ty8joty1bLpU"
      }
    },
    {
      "cell_type": "code",
      "source": [
        "frequently_rated_items = (ratings.astype(bool).sum(axis=0) > 100).sum()\n",
        "print(f\"a. Number of items frequently rated (>100 ratings): {frequently_rated_items}\")\n",
        "\n",
        "rarely_rated_items = (ratings.astype(bool).sum(axis=0) < 10).sum()\n",
        "print(f\"b. Number of items rarely rated (<10 ratings): {rarely_rated_items}\")\n",
        "\n",
        "frequent_raters = (ratings.astype(bool).sum(axis=1) > 100).sum()\n",
        "print(f\"c. Number of users who rate frequently (>100 ratings): {frequent_raters}\")\n",
        "\n",
        "rare_raters = (ratings.astype(bool).sum(axis=1) < 10).sum()\n",
        "print(f\"d. Number of users who rate rarely (<10 ratings): {rare_raters}\")\n",
        "\n"
      ],
      "metadata": {
        "colab": {
          "base_uri": "https://localhost:8080/"
        },
        "id": "0w9WYus2zBXs",
        "outputId": "d7e3e4f4-66e2-4d51-f505-e8f2d7cce6f0"
      },
      "execution_count": null,
      "outputs": [
        {
          "output_type": "stream",
          "name": "stdout",
          "text": [
            "a. Number of items frequently rated (>100 ratings): 334\n",
            "b. Number of items rarely rated (<10 ratings): 530\n",
            "c. Number of users who rate frequently (>100 ratings): 361\n",
            "d. Number of users who rate rarely (<10 ratings): 0\n"
          ]
        }
      ]
    },
    {
      "cell_type": "code",
      "source": [
        "\n",
        "item_rating_counts = ratings.astype(bool).sum(axis=0)\n",
        "plt.figure(figsize=(12, 6))\n",
        "item_rating_counts.plot.hist(bins=50, color=\"#4a90e2\", alpha=0.8)\n",
        "plt.title(\"Distribution of Ratings Per Item\", fontsize=16, fontweight=\"bold\")\n",
        "plt.xlabel(\"Number of Ratings\", fontsize=12)\n",
        "plt.ylabel(\"Frequency\", fontsize=12)\n",
        "plt.grid(axis=\"y\", linestyle=\"--\", alpha=0.7)\n",
        "plt.show()\n",
        "\n",
        "user_rating_counts = ratings.astype(bool).sum(axis=1)\n",
        "\n",
        "plt.figure(figsize=(12, 6))\n",
        "user_rating_counts.plot.hist(bins=50, color=\"orange\", alpha=0.8)\n",
        "plt.title(\"Distribution of Ratings Per User\", fontsize=16, fontweight=\"bold\")\n",
        "plt.xlabel(\"Number of Ratings\", fontsize=12)\n",
        "plt.ylabel(\"Frequency\", fontsize=12)\n",
        "plt.grid(axis=\"y\", linestyle=\"--\", alpha=0.7)\n",
        "plt.show()\n",
        "\n",
        "plt.figure(figsize=(12, 6))\n",
        "plt.bar([\"Frequently Rated (>100)\", \"Rarely Rated (<10)\"],\n",
        "        [item_rating_counts[item_rating_counts > 100].count(), item_rating_counts[item_rating_counts < 10].count()],\n",
        "        color=[\"#4a90e2\", \"#e94e77\"])\n",
        "plt.title(\"Comparison of Frequently and Rarely Rated Items\", fontsize=16, fontweight=\"bold\")\n",
        "plt.ylabel(\"Number of Items\", fontsize=12)\n",
        "plt.grid(axis=\"y\", linestyle=\"--\", alpha=0.7)\n",
        "plt.show()\n",
        "\n",
        "plt.figure(figsize=(12, 6))\n",
        "plt.bar([\"Frequent Raters (>100)\", \"Rare Raters (<10)\"],\n",
        "        [user_rating_counts[user_rating_counts > 100].count(), user_rating_counts[user_rating_counts < 10].count()],\n",
        "        color=[\"#4a90e2\", \"#e94e77\"])\n",
        "plt.title(\"Comparison of Frequent and Rare Users\", fontsize=16, fontweight=\"bold\")\n",
        "plt.ylabel(\"Number of Users\", fontsize=12)\n",
        "plt.grid(axis=\"y\", linestyle=\"--\", alpha=0.7)\n",
        "plt.show()\n",
        "\n",
        "frequently_rated_items = item_rating_counts[item_rating_counts > 100].count()\n",
        "rarely_rated_items = item_rating_counts[item_rating_counts < 10].count()\n",
        "frequent_raters = user_rating_counts[user_rating_counts > 100].count()\n",
        "rare_raters = user_rating_counts[user_rating_counts < 10].count()\n"
      ],
      "metadata": {
        "colab": {
          "base_uri": "https://localhost:8080/",
          "height": 0
        },
        "id": "8XivTwSx0ITm",
        "outputId": "48f69a62-916f-46c4-dc71-a3f8408428b3",
        "collapsed": true
      },
      "execution_count": 46,
      "outputs": [
        {
          "output_type": "display_data",
          "data": {
            "text/plain": [
              "<Figure size 1200x600 with 1 Axes>"
            ],
            "image/png": "[encoded data removed]"
          },
          "metadata": {}
        },
        {
          "output_type": "display_data",
          "data": {
            "text/plain": [
              "<Figure size 1200x600 with 1 Axes>"
            ],
            "image/png": "[encoded data removed]"
          },
          "metadata": {}
        },
        {
          "output_type": "display_data",
          "data": {
            "text/plain": [
              "<Figure size 1200x600 with 1 Axes>"
            ],
            "image/png": "[encoded data removed]"
          },
          "metadata": {}
        },
        {
          "output_type": "display_data",
          "data": {
            "text/plain": [
              "<Figure size 1200x600 with 1 Axes>"
            ],
            "image/png": "[encoded data removed]"
          },
          "metadata": {}
        }
      ]
    },
    {
      "cell_type": "markdown",
      "source": [
        " The biggest challenge we we face when building a recommender system for this dataset is the sparsity of the data. As we can see from the \"ratings per item\" histogram, most items get relatively low number of ratings. This means that trying to use collaborative filtering to recommend a movie for a user may not be possible for most items, as there will not be enough ratings to find common items. Similarly, the \"ratings per user\" histogram suggests that most users rated relatively few items, which may also be insufficient for using collaborative filtering to suggest on movies based on user similarities.\n",
        "\n",
        "Another challenge we may face with this dataset is that highly accurate recommendations often result in repetitive suggestions, disproportionately favoring popular movies while sidelining less-known ones. This can lead to a lack of diversity in recommendations, potentially reducing user satisfaction over time.\n",
        "\n",
        "Another challenging issue may arise due to the fact that user preferences and movie popularity evolve over time; The dataset does not include timestamps for when ratings were given, and as a result, some recommendations may become outdated or fail to reflect changes in user behavior.\n",
        "\n",
        "Finally, a challenge may arise when recommending movies based on their genre. As shown in the genre distribution plot, some genres have relatively few movies, making it difficult to compare users' satisfaction with other movies within the same genre."
      ],
      "metadata": {
        "id": "zd3N7Ija2rhS"
      }
    },
    {
      "cell_type": "markdown",
      "source": [
        "---"
      ],
      "metadata": {
        "id": "OvZOqXqeoCfe"
      }
    },
    {
      "cell_type": "markdown",
      "source": [
        "## Popularity based RS model - trainning & evaluation\n",
        "\n",
        "In this section, you will divide the data into train and test sets, implement and explore various evaluation metrics, and test them on the popularity based RS model."
      ],
      "metadata": {
        "id": "QfH5AdtUF4bP"
      }
    },
    {
      "cell_type": "code",
      "source": [
        "def train_test_split(\n",
        "    ratings: pd.DataFrame) -> tuple[pd.DataFrame, pd.DataFrame]:\n",
        "    \"\"\"Splits rating matrix to train and test.\n",
        "\n",
        "    Args:\n",
        "        ratings: rating matrix.\n",
        "\n",
        "    Returns:\n",
        "        Train and test matrices.\n",
        "    \"\"\"\n",
        "    test = ratings.copy()\n",
        "    test.iloc[:, :] = 0\n",
        "    train = ratings.copy()\n",
        "    for user in range(ratings.shape[0]):\n",
        "        non_zero_items = ratings.iloc[user, :].to_numpy().nonzero()[0]\n",
        "        test_ratings = np.random.choice(non_zero_items, size=10, replace=False)\n",
        "        train.iloc[user, test_ratings] = 0\n",
        "        test.iloc[user, test_ratings] = ratings.iloc[user, test_ratings]\n",
        "\n",
        "    # Test and training are truly disjoint.\n",
        "    assert(np.all((train * test) == 0))\n",
        "    return train, test\n",
        "\n",
        "train, test = train_test_split(ratings)\n",
        "train.shape, test.shape"
      ],
      "metadata": {
        "id": "8Va5WdpDzmKV",
        "colab": {
          "base_uri": "https://localhost:8080/"
        },
        "outputId": "ecb6a703-68d9-4ae7-c878-6343ae1a8990"
      },
      "execution_count": 65,
      "outputs": [
        {
          "output_type": "execute_result",
          "data": {
            "text/plain": [
              "((943, 1682), (943, 1682))"
            ]
          },
          "metadata": {},
          "execution_count": 65
        }
      ]
    },
    {
      "cell_type": "markdown",
      "source": [
        "#### Question 4 (60 points)\n",
        "Implement the following evaluation metrics using only numpy and pandas:\n",
        "1. RMSE\n",
        "2. MRR\n",
        "3. DCG\n",
        "4. IDCG\n",
        "5. nDCG\n",
        "6. MAP\n",
        "\n",
        "\n",
        "####Reminder:\n",
        "\n",
        "<img src='https://drive.google.com/uc?id=1KAaJ5RRHFrMseBTnW1o71ZvrpbrxeQ4f' width=\"250\">\n",
        "\n",
        "<img src='https://drive.google.com/uc?id=18bVps-_zx07aLcHXFisPQoMaibAJ4nzP' width=\"250\">\n",
        "\n",
        "<img src='https://drive.google.com/uc?id=1jO7owkzOmcRbHpWn7LgWdq0GNQFD1665' width=\"350\">\n",
        "\n",
        "<img src='https://drive.google.com/uc?id=1tg-Kl1hYu3WVzQ26fMfA7KQ8S8JqWVnh' width=\"600\">\n",
        "\n",
        "Notes:\n",
        "* Refer to the slides about 'Recommender Systems Evaluation' for the math formulas.\n",
        "* Consider edge cases such as division by zero, NaN, Null, Zeros, out of bound, eval time, etc.\n",
        "* You may change the function signatures (but not required).\n",
        "\n",
        "\n",
        "\n"
      ],
      "metadata": {
        "id": "BacrFMsAveRH"
      }
    },
    {
      "cell_type": "code",
      "source": [
        "class PopularityRS:\n",
        "\n",
        "    def __init__(self, train: pd.DataFrame):\n",
        "      \"\"\"Trains popularity based recommender system model.\n",
        "\n",
        "        Args:\n",
        "          train: rating matrix.\n",
        "      \"\"\"\n",
        "      self.train = train\n",
        "      self.n_users, self.n_items = train.shape\n",
        "      self.model_params = {}\n",
        "\n",
        "    def fit_popularity(self):\n",
        "        \"\"\"Computes parameters in a popularity-based algorithm.\"\"\"\n",
        "        self.model_params[\"popularity\"] = np.zeros(self.train.shape)\n",
        "        popularity = self.model_params[\"popularity\"]\n",
        "        item_avg = np.ma.masked_equal(self.train, value=0).mean(axis=0)\n",
        "        item_avg[np.isnan(item_avg)] = 0\n",
        "        for i in range(1, self.n_items):\n",
        "            popularity[:, i] = item_avg.data[i]\n",
        "        self.model_params[\"popularity\"] = popularity\n",
        "\n",
        "    def recommend_unseen(self, user: int, n_items: int) -> list:\n",
        "        \"\"\"Recommends unseen items per user, oredered by predicted ratings desc.\n",
        "\n",
        "        Args:\n",
        "          user: user id.\n",
        "          n_items: number of items to suggest.\n",
        "\n",
        "        Returns:\n",
        "          Top suggestions.\n",
        "        \"\"\"\n",
        "        predicted_ratings = self.model_params[\"popularity\"][user]\n",
        "        pred_sorted = np.argsort(predicted_ratings)[::-1]\n",
        "        unseen_movie = np.where(self.train.iloc[user] == 0)\n",
        "        final = pred_sorted[np.in1d(pred_sorted, unseen_movie)]\n",
        "        return final[:n_items]\n",
        "\n",
        "    def predict(self, user: int, item: int) -> float:\n",
        "        \"\"\"Predicts the rating of a specific item for a specific user.\n",
        "\n",
        "        Args:\n",
        "          user: user id.\n",
        "          item: item id.\n",
        "\n",
        "        Returns:\n",
        "          Predicted rating.\n",
        "        \"\"\"\n",
        "        predicted_rating = self.model_params[\"popularity\"][user, item]\n",
        "        return predicted_rating\n",
        "\n",
        "    def predict_all(self):\n",
        "        \"\"\"Predicts ratings for every user and item.\"\"\"\n",
        "        predictions = np.zeros(shape=(self.n_users, self.n_items))\n",
        "        for u in range(self.n_users):\n",
        "            for i in range(self.n_items):\n",
        "                predictions[u, i] = self.predict(u, i)\n",
        "        return predictions\n",
        "\n",
        "    def rmse(self, actual: pd.DataFrame) -> float:\n",
        "        \"\"\"Computes the total RMSE of a model, compared to the actual rating.\n",
        "\n",
        "        Args:\n",
        "          actual: actual rating matrix.\n",
        "\n",
        "        Returns:\n",
        "          Total RMSE.\n",
        "        \"\"\"\n",
        "        ### Your Code Here\n",
        "\n",
        "    def mrr(self, test: pd.DataFrame, k: int = 5) -> float:\n",
        "        \"\"\"Computes the Mean Reciprocal Rank for all users.\n",
        "\n",
        "        Note: relevancy is considered rating 3 or above.\n",
        "\n",
        "        Args:\n",
        "          test: rating matrix.\n",
        "          k: cutoff value.\n",
        "\n",
        "        Returns:\n",
        "          MRR.\n",
        "        \"\"\"\n",
        "        ### Your Code Here\n",
        "\n",
        "    def dcg(self, user: int, test: pd.DataFrame, k: int = 5) -> float:\n",
        "        \"\"\"Computes the Discounted Cumulative Gain for a specific user.\n",
        "\n",
        "        Args:\n",
        "            user: user id.\n",
        "            test: rating matrix.\n",
        "            k: cutoff value.\n",
        "\n",
        "        Returns:\n",
        "            DCG.\n",
        "        \"\"\"\n",
        "        ### Your Code Here\n",
        "\n",
        "    def idcg(self, user: int, test: pd.DataFrame, k: int = 5) -> float:\n",
        "        \"\"\"Computes the Idealized Discounted Cumulative Gain for a given user.\n",
        "\n",
        "        Args:\n",
        "            user: user id.\n",
        "            test: rating matrix.\n",
        "            k: cutoff value.\n",
        "\n",
        "        Returns:\n",
        "            iDCG.\n",
        "        \"\"\"\n",
        "        ### Your Code Here\n",
        "\n",
        "    def mean_ndcg(self, test: pd.DataFrame, k: int = 5) -> float:\n",
        "        \"\"\"Computes Mean Normalized Discounted Cumulative Gain for all users.\n",
        "\n",
        "        Args:\n",
        "          test: rating matrix.\n",
        "          k: cutoff value.\n",
        "\n",
        "        Returns:\n",
        "          Mean nDCG.\n",
        "        \"\"\"\n",
        "        ### Your Code Here\n",
        "\n",
        "    def map(self, test: pd.DataFrame, k: int = 5) -> float:\n",
        "        \"\"\"Computes the mean average precision for all users.\n",
        "\n",
        "        Note: relevancy is considered rating 3 or above.\n",
        "\n",
        "        Args:\n",
        "          test: rating matrix.\n",
        "          k: cutoff value.\n",
        "\n",
        "        Returns:\n",
        "          Overall MAP.\n",
        "        \"\"\"\n",
        "        ### Your Code Here\n"
      ],
      "metadata": {
        "id": "so4gsKr4E_hU"
      },
      "execution_count": null,
      "outputs": []
    },
    {
      "cell_type": "markdown",
      "source": [
        "Train and evaluate the popularity based model using your metrics:"
      ],
      "metadata": {
        "id": "qXUXRKGewggk"
      }
    },
    {
      "cell_type": "code",
      "source": [
        "model = PopularityRS(train)\n",
        "model.fit_popularity()\n",
        "\n",
        "evaluation_results = {\n",
        "    \"RMSE training\": model.rmse(train),\n",
        "    \"RMSE test\": model.rmse(test),\n",
        "    \"MRR k=5 test\": model.mrr(test, 5),\n",
        "    \"MRR k=10 test\": model.mrr(test, 10),\n",
        "    \"Mean NDCG k=5 test\": model.mean_ndcg(test, 5),\n",
        "    \"Mean NDCG k=10 test\": model.mean_ndcg(test, 10),\n",
        "    \"MAP k=5 test\": model.map(test, 5),\n",
        "    \"MAP k=10 test\": model.map(test, 10),\n",
        "}\n",
        "\n",
        "results = pd.DataFrame(evaluation_results, index=[\"Metric Value\"]).T\n",
        "results"
      ],
      "metadata": {
        "id": "J7BSF49cH-84",
        "colab": {
          "base_uri": "https://localhost:8080/",
          "height": 300
        },
        "outputId": "0de8e50c-dfd6-44c1-c0df-53bcb0fd1367"
      },
      "execution_count": null,
      "outputs": [
        {
          "output_type": "execute_result",
          "data": {
            "text/plain": [
              "                    Metric Value\n",
              "RMSE training               None\n",
              "RMSE test                   None\n",
              "MRR k=5 test                None\n",
              "MRR k=10 test               None\n",
              "Mean NDCG k=5 test          None\n",
              "Mean NDCG k=10 test         None\n",
              "MAP k=5 test                None\n",
              "MAP k=10 test               None"
            ],
            "text/html": [
              "\n",
              "  <div id=\"df-91308daf-4f65-4dd0-a87e-b1dca9fd7645\" class=\"colab-df-container\">\n",
              "    <div>\n",
              "<style scoped>\n",
              "    .dataframe tbody tr th:only-of-type {\n",
              "        vertical-align: middle;\n",
              "    }\n",
              "\n",
              "    .dataframe tbody tr th {\n",
              "        vertical-align: top;\n",
              "    }\n",
              "\n",
              "    .dataframe thead th {\n",
              "        text-align: right;\n",
              "    }\n",
              "</style>\n",
              "<table border=\"1\" class=\"dataframe\">\n",
              "  <thead>\n",
              "    <tr style=\"text-align: right;\">\n",
              "      <th></th>\n",
              "      <th>Metric Value</th>\n",
              "    </tr>\n",
              "  </thead>\n",
              "  <tbody>\n",
              "    <tr>\n",
              "      <th>RMSE training</th>\n",
              "      <td>None</td>\n",
              "    </tr>\n",
              "    <tr>\n",
              "      <th>RMSE test</th>\n",
              "      <td>None</td>\n",
              "    </tr>\n",
              "    <tr>\n",
              "      <th>MRR k=5 test</th>\n",
              "      <td>None</td>\n",
              "    </tr>\n",
              "    <tr>\n",
              "      <th>MRR k=10 test</th>\n",
              "      <td>None</td>\n",
              "    </tr>\n",
              "    <tr>\n",
              "      <th>Mean NDCG k=5 test</th>\n",
              "      <td>None</td>\n",
              "    </tr>\n",
              "    <tr>\n",
              "      <th>Mean NDCG k=10 test</th>\n",
              "      <td>None</td>\n",
              "    </tr>\n",
              "    <tr>\n",
              "      <th>MAP k=5 test</th>\n",
              "      <td>None</td>\n",
              "    </tr>\n",
              "    <tr>\n",
              "      <th>MAP k=10 test</th>\n",
              "      <td>None</td>\n",
              "    </tr>\n",
              "  </tbody>\n",
              "</table>\n",
              "</div>\n",
              "    <div class=\"colab-df-buttons\">\n",
              "\n",
              "  <div class=\"colab-df-container\">\n",
              "    <button class=\"colab-df-convert\" onclick=\"convertToInteractive('df-91308daf-4f65-4dd0-a87e-b1dca9fd7645')\"\n",
              "            title=\"Convert this dataframe to an interactive table.\"\n",
              "            style=\"display:none;\">\n",
              "\n",
              "  <svg xmlns=\"http://www.w3.org/2000/svg\" height=\"24px\" viewBox=\"0 -960 960 960\">\n",
              "    <path d=\"M120-120v-720h720v720H120Zm60-500h600v-160H180v160Zm220 220h160v-160H400v160Zm0 220h160v-160H400v160ZM180-400h160v-160H180v160Zm440 0h160v-160H620v160ZM180-180h160v-160H180v160Zm440 0h160v-160H620v160Z\"/>\n",
              "  </svg>\n",
              "    </button>\n",
              "\n",
              "  <style>\n",
              "    .colab-df-container {\n",
              "      display:flex;\n",
              "      gap: 12px;\n",
              "    }\n",
              "\n",
              "    .colab-df-convert {\n",
              "      background-color: #E8F0FE;\n",
              "      border: none;\n",
              "      border-radius: 50%;\n",
              "      cursor: pointer;\n",
              "      display: none;\n",
              "      fill: #1967D2;\n",
              "      height: 32px;\n",
              "      padding: 0 0 0 0;\n",
              "      width: 32px;\n",
              "    }\n",
              "\n",
              "    .colab-df-convert:hover {\n",
              "      background-color: #E2EBFA;\n",
              "      box-shadow: 0px 1px 2px rgba(60, 64, 67, 0.3), 0px 1px 3px 1px rgba(60, 64, 67, 0.15);\n",
              "      fill: #174EA6;\n",
              "    }\n",
              "\n",
              "    .colab-df-buttons div {\n",
              "      margin-bottom: 4px;\n",
              "    }\n",
              "\n",
              "    [theme=dark] .colab-df-convert {\n",
              "      background-color: #3B4455;\n",
              "      fill: #D2E3FC;\n",
              "    }\n",
              "\n",
              "    [theme=dark] .colab-df-convert:hover {\n",
              "      background-color: #434B5C;\n",
              "      box-shadow: 0px 1px 3px 1px rgba(0, 0, 0, 0.15);\n",
              "      filter: drop-shadow(0px 1px 2px rgba(0, 0, 0, 0.3));\n",
              "      fill: #FFFFFF;\n",
              "    }\n",
              "  </style>\n",
              "\n",
              "    <script>\n",
              "      const buttonEl =\n",
              "        document.querySelector('#df-91308daf-4f65-4dd0-a87e-b1dca9fd7645 button.colab-df-convert');\n",
              "      buttonEl.style.display =\n",
              "        google.colab.kernel.accessAllowed ? 'block' : 'none';\n",
              "\n",
              "      async function convertToInteractive(key) {\n",
              "        const element = document.querySelector('#df-91308daf-4f65-4dd0-a87e-b1dca9fd7645');\n",
              "        const dataTable =\n",
              "          await google.colab.kernel.invokeFunction('convertToInteractive',\n",
              "                                                    [key], {});\n",
              "        if (!dataTable) return;\n",
              "\n",
              "        const docLinkHtml = 'Like what you see? Visit the ' +\n",
              "          '<a target=\"_blank\" href=https://colab.research.google.com/notebooks/data_table.ipynb>data table notebook</a>'\n",
              "          + ' to learn more about interactive tables.';\n",
              "        element.innerHTML = '';\n",
              "        dataTable['output_type'] = 'display_data';\n",
              "        await google.colab.output.renderOutput(dataTable, element);\n",
              "        const docLink = document.createElement('div');\n",
              "        docLink.innerHTML = docLinkHtml;\n",
              "        element.appendChild(docLink);\n",
              "      }\n",
              "    </script>\n",
              "  </div>\n",
              "\n",
              "\n",
              "<div id=\"df-8a5b3450-ba3c-4d1a-9fdc-cd06149c1b98\">\n",
              "  <button class=\"colab-df-quickchart\" onclick=\"quickchart('df-8a5b3450-ba3c-4d1a-9fdc-cd06149c1b98')\"\n",
              "            title=\"Suggest charts\"\n",
              "            style=\"display:none;\">\n",
              "\n",
              "<svg xmlns=\"http://www.w3.org/2000/svg\" height=\"24px\"viewBox=\"0 0 24 24\"\n",
              "     width=\"24px\">\n",
              "    <g>\n",
              "        <path d=\"M19 3H5c-1.1 0-2 .9-2 2v14c0 1.1.9 2 2 2h14c1.1 0 2-.9 2-2V5c0-1.1-.9-2-2-2zM9 17H7v-7h2v7zm4 0h-2V7h2v10zm4 0h-2v-4h2v4z\"/>\n",
              "    </g>\n",
              "</svg>\n",
              "  </button>\n",
              "\n",
              "<style>\n",
              "  .colab-df-quickchart {\n",
              "      --bg-color: #E8F0FE;\n",
              "      --fill-color: #1967D2;\n",
              "      --hover-bg-color: #E2EBFA;\n",
              "      --hover-fill-color: #174EA6;\n",
              "      --disabled-fill-color: #AAA;\n",
              "      --disabled-bg-color: #DDD;\n",
              "  }\n",
              "\n",
              "  [theme=dark] .colab-df-quickchart {\n",
              "      --bg-color: #3B4455;\n",
              "      --fill-color: #D2E3FC;\n",
              "      --hover-bg-color: #434B5C;\n",
              "      --hover-fill-color: #FFFFFF;\n",
              "      --disabled-bg-color: #3B4455;\n",
              "      --disabled-fill-color: #666;\n",
              "  }\n",
              "\n",
              "  .colab-df-quickchart {\n",
              "    background-color: var(--bg-color);\n",
              "    border: none;\n",
              "    border-radius: 50%;\n",
              "    cursor: pointer;\n",
              "    display: none;\n",
              "    fill: var(--fill-color);\n",
              "    height: 32px;\n",
              "    padding: 0;\n",
              "    width: 32px;\n",
              "  }\n",
              "\n",
              "  .colab-df-quickchart:hover {\n",
              "    background-color: var(--hover-bg-color);\n",
              "    box-shadow: 0 1px 2px rgba(60, 64, 67, 0.3), 0 1px 3px 1px rgba(60, 64, 67, 0.15);\n",
              "    fill: var(--button-hover-fill-color);\n",
              "  }\n",
              "\n",
              "  .colab-df-quickchart-complete:disabled,\n",
              "  .colab-df-quickchart-complete:disabled:hover {\n",
              "    background-color: var(--disabled-bg-color);\n",
              "    fill: var(--disabled-fill-color);\n",
              "    box-shadow: none;\n",
              "  }\n",
              "\n",
              "  .colab-df-spinner {\n",
              "    border: 2px solid var(--fill-color);\n",
              "    border-color: transparent;\n",
              "    border-bottom-color: var(--fill-color);\n",
              "    animation:\n",
              "      spin 1s steps(1) infinite;\n",
              "  }\n",
              "\n",
              "  @keyframes spin {\n",
              "    0% {\n",
              "      border-color: transparent;\n",
              "      border-bottom-color: var(--fill-color);\n",
              "      border-left-color: var(--fill-color);\n",
              "    }\n",
              "    20% {\n",
              "      border-color: transparent;\n",
              "      border-left-color: var(--fill-color);\n",
              "      border-top-color: var(--fill-color);\n",
              "    }\n",
              "    30% {\n",
              "      border-color: transparent;\n",
              "      border-left-color: var(--fill-color);\n",
              "      border-top-color: var(--fill-color);\n",
              "      border-right-color: var(--fill-color);\n",
              "    }\n",
              "    40% {\n",
              "      border-color: transparent;\n",
              "      border-right-color: var(--fill-color);\n",
              "      border-top-color: var(--fill-color);\n",
              "    }\n",
              "    60% {\n",
              "      border-color: transparent;\n",
              "      border-right-color: var(--fill-color);\n",
              "    }\n",
              "    80% {\n",
              "      border-color: transparent;\n",
              "      border-right-color: var(--fill-color);\n",
              "      border-bottom-color: var(--fill-color);\n",
              "    }\n",
              "    90% {\n",
              "      border-color: transparent;\n",
              "      border-bottom-color: var(--fill-color);\n",
              "    }\n",
              "  }\n",
              "</style>\n",
              "\n",
              "  <script>\n",
              "    async function quickchart(key) {\n",
              "      const quickchartButtonEl =\n",
              "        document.querySelector('#' + key + ' button');\n",
              "      quickchartButtonEl.disabled = true;  // To prevent multiple clicks.\n",
              "      quickchartButtonEl.classList.add('colab-df-spinner');\n",
              "      try {\n",
              "        const charts = await google.colab.kernel.invokeFunction(\n",
              "            'suggestCharts', [key], {});\n",
              "      } catch (error) {\n",
              "        console.error('Error during call to suggestCharts:', error);\n",
              "      }\n",
              "      quickchartButtonEl.classList.remove('colab-df-spinner');\n",
              "      quickchartButtonEl.classList.add('colab-df-quickchart-complete');\n",
              "    }\n",
              "    (() => {\n",
              "      let quickchartButtonEl =\n",
              "        document.querySelector('#df-8a5b3450-ba3c-4d1a-9fdc-cd06149c1b98 button');\n",
              "      quickchartButtonEl.style.display =\n",
              "        google.colab.kernel.accessAllowed ? 'block' : 'none';\n",
              "    })();\n",
              "  </script>\n",
              "</div>\n",
              "\n",
              "  <div id=\"id_3dbf2f14-0d51-4eb7-8264-72659bd5137c\">\n",
              "    <style>\n",
              "      .colab-df-generate {\n",
              "        background-color: #E8F0FE;\n",
              "        border: none;\n",
              "        border-radius: 50%;\n",
              "        cursor: pointer;\n",
              "        display: none;\n",
              "        fill: #1967D2;\n",
              "        height: 32px;\n",
              "        padding: 0 0 0 0;\n",
              "        width: 32px;\n",
              "      }\n",
              "\n",
              "      .colab-df-generate:hover {\n",
              "        background-color: #E2EBFA;\n",
              "        box-shadow: 0px 1px 2px rgba(60, 64, 67, 0.3), 0px 1px 3px 1px rgba(60, 64, 67, 0.15);\n",
              "        fill: #174EA6;\n",
              "      }\n",
              "\n",
              "      [theme=dark] .colab-df-generate {\n",
              "        background-color: #3B4455;\n",
              "        fill: #D2E3FC;\n",
              "      }\n",
              "\n",
              "      [theme=dark] .colab-df-generate:hover {\n",
              "        background-color: #434B5C;\n",
              "        box-shadow: 0px 1px 3px 1px rgba(0, 0, 0, 0.15);\n",
              "        filter: drop-shadow(0px 1px 2px rgba(0, 0, 0, 0.3));\n",
              "        fill: #FFFFFF;\n",
              "      }\n",
              "    </style>\n",
              "    <button class=\"colab-df-generate\" onclick=\"generateWithVariable('results')\"\n",
              "            title=\"Generate code using this dataframe.\"\n",
              "            style=\"display:none;\">\n",
              "\n",
              "  <svg xmlns=\"http://www.w3.org/2000/svg\" height=\"24px\"viewBox=\"0 0 24 24\"\n",
              "       width=\"24px\">\n",
              "    <path d=\"M7,19H8.4L18.45,9,17,7.55,7,17.6ZM5,21V16.75L18.45,3.32a2,2,0,0,1,2.83,0l1.4,1.43a1.91,1.91,0,0,1,.58,1.4,1.91,1.91,0,0,1-.58,1.4L9.25,21ZM18.45,9,17,7.55Zm-12,3A5.31,5.31,0,0,0,4.9,8.1,5.31,5.31,0,0,0,1,6.5,5.31,5.31,0,0,0,4.9,4.9,5.31,5.31,0,0,0,6.5,1,5.31,5.31,0,0,0,8.1,4.9,5.31,5.31,0,0,0,12,6.5,5.46,5.46,0,0,0,6.5,12Z\"/>\n",
              "  </svg>\n",
              "    </button>\n",
              "    <script>\n",
              "      (() => {\n",
              "      const buttonEl =\n",
              "        document.querySelector('#id_3dbf2f14-0d51-4eb7-8264-72659bd5137c button.colab-df-generate');\n",
              "      buttonEl.style.display =\n",
              "        google.colab.kernel.accessAllowed ? 'block' : 'none';\n",
              "\n",
              "      buttonEl.onclick = () => {\n",
              "        google.colab.notebook.generateWithVariable('results');\n",
              "      }\n",
              "      })();\n",
              "    </script>\n",
              "  </div>\n",
              "\n",
              "    </div>\n",
              "  </div>\n"
            ],
            "application/vnd.google.colaboratory.intrinsic+json": {
              "type": "dataframe",
              "variable_name": "results",
              "repr_error": "Out of range float values are not JSON compliant: nan"
            }
          },
          "metadata": {},
          "execution_count": 14
        }
      ]
    },
    {
      "cell_type": "markdown",
      "source": [
        "---"
      ],
      "metadata": {
        "id": "jwdfrEiIrtvi"
      }
    },
    {
      "cell_type": "markdown",
      "source": [
        "#### Question 5 (10 points)\n",
        "\n",
        "Discuss what would you consider to be a more suitable evaluation metric for this specific dataset."
      ],
      "metadata": {
        "id": "amnvdHs2wcWq"
      }
    },
    {
      "cell_type": "markdown",
      "source": [
        "``` Your response here ```"
      ],
      "metadata": {
        "id": "rKG-Wt_DyDiu"
      }
    },
    {
      "cell_type": "markdown",
      "source": [
        "---"
      ],
      "metadata": {
        "id": "H6lCA-jorxrY"
      }
    },
    {
      "cell_type": "markdown",
      "source": [
        "#### Question 6 (10 points)\n",
        "Discuss the pros and cons of these evaluation metrics in general."
      ],
      "metadata": {
        "id": "oEsSGu1gxGI2"
      }
    },
    {
      "cell_type": "markdown",
      "source": [
        "``` Your response here ```"
      ],
      "metadata": {
        "id": "6DVypcydyEaK"
      }
    },
    {
      "cell_type": "markdown",
      "source": [
        "---"
      ],
      "metadata": {
        "id": "sEMbp0b5rysI"
      }
    }
  ]
}